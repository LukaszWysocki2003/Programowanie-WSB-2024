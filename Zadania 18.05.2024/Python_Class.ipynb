{
  "nbformat": 4,
  "nbformat_minor": 0,
  "metadata": {
    "colab": {
      "provenance": []
    },
    "kernelspec": {
      "name": "python3",
      "display_name": "Python 3"
    },
    "language_info": {
      "name": "python"
    }
  },
  "cells": [
    {
      "cell_type": "code",
      "execution_count": 1,
      "metadata": {
        "colab": {
          "base_uri": "https://localhost:8080/"
        },
        "id": "rutotvf88trw",
        "outputId": "d4e221df-74a6-4753-aba0-a01ba3b3eccf"
      },
      "outputs": [
        {
          "output_type": "stream",
          "name": "stdout",
          "text": [
            "Namespace of the 'array' module:\n",
            "['ArrayType', '__doc__', '__loader__', '__name__', '__package__', '__spec__', '_array_reconstructor', 'array', 'typecodes']\n"
          ]
        }
      ],
      "source": [
        "#1 Write a  Python program to import a built-in array module and display the namespace of the said module.\n",
        "import array\n",
        "\n",
        "print(\"Namespace of the 'array' module:\")\n",
        "print(dir(array))\n"
      ]
    },
    {
      "cell_type": "code",
      "source": [
        "#2 Write a Python program to create a class and display the namespace of that class.\n",
        "class MyClass:\n",
        "    class_variable = 10\n",
        "\n",
        "    def __init__(self, x):\n",
        "        self.instance_variable = x\n",
        "\n",
        "    def my_method(self):\n",
        "        pass\n",
        "\n",
        "print(\"Namespace of the 'MyClass' class:\")\n",
        "print(dir(MyClass))\n"
      ],
      "metadata": {
        "colab": {
          "base_uri": "https://localhost:8080/"
        },
        "id": "tIW7MHUz9CaR",
        "outputId": "d9f1bb69-8307-4bf7-b013-f57c9936b325"
      },
      "execution_count": 2,
      "outputs": [
        {
          "output_type": "stream",
          "name": "stdout",
          "text": [
            "Namespace of the 'MyClass' class:\n",
            "['__class__', '__delattr__', '__dict__', '__dir__', '__doc__', '__eq__', '__format__', '__ge__', '__getattribute__', '__gt__', '__hash__', '__init__', '__init_subclass__', '__le__', '__lt__', '__module__', '__ne__', '__new__', '__reduce__', '__reduce_ex__', '__repr__', '__setattr__', '__sizeof__', '__str__', '__subclasshook__', '__weakref__', 'class_variable', 'my_method']\n"
          ]
        }
      ]
    },
    {
      "cell_type": "code",
      "source": [
        "#3 Write a Python program to create an instance of a specified class and display the namespace of the said instance.\n",
        "class MyClass:\n",
        "    class_variable = 10\n",
        "\n",
        "    def __init__(self, x):\n",
        "        self.instance_variable = x\n",
        "\n",
        "    def my_method(self):\n",
        "        pass\n",
        "\n",
        "my_instance = MyClass(20)\n",
        "\n",
        "print(\"Namespace of the instance:\")\n",
        "print(my_instance.__dict__)\n"
      ],
      "metadata": {
        "colab": {
          "base_uri": "https://localhost:8080/"
        },
        "id": "yf52lPxT9yPE",
        "outputId": "cf089723-4667-47c5-ee28-a76b5d06881e"
      },
      "execution_count": 3,
      "outputs": [
        {
          "output_type": "stream",
          "name": "stdout",
          "text": [
            "Namespace of the instance:\n",
            "{'instance_variable': 20}\n"
          ]
        }
      ]
    },
    {
      "cell_type": "code",
      "source": [
        "#4 'builtins' module provides direct access to all 'built-in' identifiers of Python.\n",
        "#Write a Python program that imports the abs() function using the builtins module, displays the documentation of the abs() function and finds the absolute value of -155.\n",
        "import builtins\n",
        "\n",
        "abs_function = getattr(builtins, 'abs')\n",
        "\n",
        "print(\"Documentation of the abs() function:\")\n",
        "help(abs_function)\n",
        "\n",
        "result = abs_function(-155)\n",
        "print(\"Absolute value of -155:\", result)\n"
      ],
      "metadata": {
        "colab": {
          "base_uri": "https://localhost:8080/"
        },
        "id": "xJ836V7N9686",
        "outputId": "6bf1c3a0-b82d-4462-85cc-860becc1ab65"
      },
      "execution_count": 4,
      "outputs": [
        {
          "output_type": "stream",
          "name": "stdout",
          "text": [
            "Documentation of the abs() function:\n",
            "Help on built-in function abs in module builtins:\n",
            "\n",
            "abs(x, /)\n",
            "    Return the absolute value of the argument.\n",
            "\n",
            "Absolute value of -155: 155\n"
          ]
        }
      ]
    },
    {
      "cell_type": "code",
      "source": [
        "#5 Define a  Python function student(). Using function attributes display the names of all arguments.\n",
        "def student(**kwargs):\n",
        "    student.arguments = kwargs.keys()\n",
        "\n",
        "student(name='John', age=20, grade='A')\n",
        "\n",
        "print(\"Names of all arguments:\")\n",
        "print(student.arguments)\n"
      ],
      "metadata": {
        "colab": {
          "base_uri": "https://localhost:8080/"
        },
        "id": "vInmAQEC-h-B",
        "outputId": "736b26c9-1910-4a60-e179-b9f3e5bf40c1"
      },
      "execution_count": 5,
      "outputs": [
        {
          "output_type": "stream",
          "name": "stdout",
          "text": [
            "Names of all arguments:\n",
            "dict_keys(['name', 'age', 'grade'])\n"
          ]
        }
      ]
    },
    {
      "cell_type": "code",
      "source": [
        "#6 Write a  Python function student_data () that will print the ID of a student (student_id). If the user passes an argument student_name or student_class the function will print the student name and class.\n",
        "def student_data(student_id, **kwargs):\n",
        "    print(\"Student ID:\", student_id)\n",
        "\n",
        "    if 'student_name' in kwargs and 'student_class' in kwargs:\n",
        "        print(\"Student Name:\", kwargs['student_name'])\n",
        "        print(\"Student Class:\", kwargs['student_class'])\n",
        "\n",
        "student_data(101, student_name='John', student_class='A')\n"
      ],
      "metadata": {
        "colab": {
          "base_uri": "https://localhost:8080/"
        },
        "id": "_3cwXCDa-x9_",
        "outputId": "0945eaff-60bd-4d81-9816-43af0dde769b"
      },
      "execution_count": 6,
      "outputs": [
        {
          "output_type": "stream",
          "name": "stdout",
          "text": [
            "Student ID: 101\n",
            "Student Name: John\n",
            "Student Class: A\n"
          ]
        }
      ]
    },
    {
      "cell_type": "code",
      "source": [
        "#7  Write a simple Python class named Student and display its type. Also, display the __dict__ attribute keys and the value of the __module__ attribute of the Student class.\n",
        "class Student:\n",
        "    def __init__(self, name, age):\n",
        "        self.name = name\n",
        "        self.age = age\n",
        "student = Student(\"John\", 20)\n",
        "\n",
        "print(\"Type of the Student class:\", type(Student))\n",
        "\n",
        "print(\"Keys of the __dict__ attribute of the Student class:\", Student.__dict__.keys())\n",
        "\n",
        "print(\"Value of the __module__ attribute of the Student class:\", Student.__module__)\n"
      ],
      "metadata": {
        "colab": {
          "base_uri": "https://localhost:8080/"
        },
        "id": "d2PuFaac--lA",
        "outputId": "c8876a54-76d0-47a3-f8fb-6351d2b1ee59"
      },
      "execution_count": 7,
      "outputs": [
        {
          "output_type": "stream",
          "name": "stdout",
          "text": [
            "Type of the Student class: <class 'type'>\n",
            "Keys of the __dict__ attribute of the Student class: dict_keys(['__module__', '__init__', '__dict__', '__weakref__', '__doc__'])\n",
            "Value of the __module__ attribute of the Student class: __main__\n"
          ]
        }
      ]
    },
    {
      "cell_type": "code",
      "source": [
        "#8 Write a Python program to create two empty classes, Student and Marks. Now create some instances and check whether they are instances of the said classes or not. Also, check whether the said classes are subclasses of the built-in object class or not.\n",
        "class Student:\n",
        "    pass\n",
        "\n",
        "class Marks:\n",
        "    pass\n",
        "\n",
        "student_instance = Student()\n",
        "marks_instance = Marks()\n",
        "\n",
        "print(\"Is student_instance an instance of Student class?\", isinstance(student_instance, Student))\n",
        "print(\"Is marks_instance an instance of Marks class?\", isinstance(marks_instance, Marks))\n",
        "\n",
        "print(\"Is Student class a subclass of object class?\", issubclass(Student, object))\n",
        "print(\"Is Marks class a subclass of object class?\", issubclass(Marks, object))\n"
      ],
      "metadata": {
        "colab": {
          "base_uri": "https://localhost:8080/"
        },
        "id": "mP44vbSU_O07",
        "outputId": "479b5dc5-051f-4dd4-849a-90893a95e52d"
      },
      "execution_count": 8,
      "outputs": [
        {
          "output_type": "stream",
          "name": "stdout",
          "text": [
            "Is student_instance an instance of Student class? True\n",
            "Is marks_instance an instance of Marks class? True\n",
            "Is Student class a subclass of object class? True\n",
            "Is Marks class a subclass of object class? True\n"
          ]
        }
      ]
    },
    {
      "cell_type": "code",
      "source": [
        "#9 Write a  Python class named Student with two attributes student_name, marks. Modify the attribute values of the said class and print the original and modified values of the said attributes.\n",
        "class Student:\n",
        "    def __init__(self, student_name, marks):\n",
        "        self.student_name = student_name\n",
        "        self.marks = marks\n",
        "\n",
        "student = Student(\"John\", 85)\n",
        "\n",
        "print(\"Original values:\")\n",
        "print(\"Student Name:\", student.student_name)\n",
        "print(\"Marks:\", student.marks)\n",
        "\n",
        "student.student_name = \"Alice\"\n",
        "student.marks = 90\n",
        "\n",
        "print(\"\\nModified values:\")\n",
        "print(\"Student Name:\", student.student_name)\n",
        "print(\"Marks:\", student.marks)\n"
      ],
      "metadata": {
        "colab": {
          "base_uri": "https://localhost:8080/"
        },
        "id": "RnPP66l8_iVG",
        "outputId": "d4737b84-8f4d-4531-c910-2f42a27c8dc6"
      },
      "execution_count": 9,
      "outputs": [
        {
          "output_type": "stream",
          "name": "stdout",
          "text": [
            "Original values:\n",
            "Student Name: John\n",
            "Marks: 85\n",
            "\n",
            "Modified values:\n",
            "Student Name: Alice\n",
            "Marks: 90\n"
          ]
        }
      ]
    },
    {
      "cell_type": "code",
      "source": [
        "#10 Write a  Python class named Student with two attributes student_id, student_name. Add a new attribute student_class and display the entire attribute and the values of the class. Now remove the student_name attribute and display the entire attribute with values.\n",
        "class Student:\n",
        "    def __init__(self, student_id, student_name):\n",
        "        self.student_id = student_id\n",
        "        self.student_name = student_name\n",
        "\n",
        "student = Student(101, \"John\")\n",
        "\n",
        "student.student_class = \"A\"\n",
        "\n",
        "print(\"Attributes and values before removal:\")\n",
        "print(student.__dict__)\n",
        "\n",
        "del student.student_name\n",
        "\n",
        "print(\"\\nAttributes and values after removal:\")\n",
        "print(student.__dict__)\n"
      ],
      "metadata": {
        "colab": {
          "base_uri": "https://localhost:8080/"
        },
        "id": "74V8DjLr_y-4",
        "outputId": "026ff057-120e-4b96-fd2c-ac7d4e7e2ea7"
      },
      "execution_count": 10,
      "outputs": [
        {
          "output_type": "stream",
          "name": "stdout",
          "text": [
            "Attributes and values before removal:\n",
            "{'student_id': 101, 'student_name': 'John', 'student_class': 'A'}\n",
            "\n",
            "Attributes and values after removal:\n",
            "{'student_id': 101, 'student_class': 'A'}\n"
          ]
        }
      ]
    },
    {
      "cell_type": "code",
      "source": [
        "#11 Write a Python class named Student with two attributes: student_id, student_name. Add a new attribute: student_class. Create a function to display all attributes and their values in the Student class.\n",
        "class Student:\n",
        "    def __init__(self, student_id, student_name):\n",
        "        self.student_id = student_id\n",
        "        self.student_name = student_name\n",
        "        self.student_class = None\n",
        "\n",
        "    def display_attributes(self):\n",
        "        print(\"Attributes and values:\")\n",
        "        for attr, value in self.__dict__.items():\n",
        "            print(f\"{attr}: {value}\")\n",
        "\n",
        "student = Student(101, \"John\")\n",
        "\n",
        "student.student_class = \"A\"\n",
        "\n",
        "student.display_attributes()\n"
      ],
      "metadata": {
        "colab": {
          "base_uri": "https://localhost:8080/"
        },
        "id": "UmBecnfdAI_S",
        "outputId": "4fba437e-2fc6-4dca-b001-3a424ba01c6f"
      },
      "execution_count": 11,
      "outputs": [
        {
          "output_type": "stream",
          "name": "stdout",
          "text": [
            "Attributes and values:\n",
            "student_id: 101\n",
            "student_name: John\n",
            "student_class: A\n"
          ]
        }
      ]
    },
    {
      "cell_type": "code",
      "source": [
        "#12 Write a  Python class named Student with two instances student1, student2 and assign values to the instances' attributes. Print all the attributes of the student1, student2 instances with their values in the given format.\n",
        "class Student:\n",
        "    def __init__(self, student_id, student_name):\n",
        "        self.student_id = student_id\n",
        "        self.student_name = student_name\n",
        "\n",
        "student1 = Student(101, \"John\")\n",
        "student2 = Student(102, \"Alice\")\n",
        "\n",
        "print(\"Attributes and values of student1:\")\n",
        "for attr, value in student1.__dict__.items():\n",
        "    print(f\"{attr}: {value}\")\n",
        "\n",
        "print(\"\\nAttributes and values of student2:\")\n",
        "for attr, value in student2.__dict__.items():\n",
        "    print(f\"{attr}: {value}\")\n"
      ],
      "metadata": {
        "colab": {
          "base_uri": "https://localhost:8080/"
        },
        "id": "K4VPjt0mAdWL",
        "outputId": "b45f181a-c97c-41e4-d842-fbb7aa62d55a"
      },
      "execution_count": 12,
      "outputs": [
        {
          "output_type": "stream",
          "name": "stdout",
          "text": [
            "Attributes and values of student1:\n",
            "student_id: 101\n",
            "student_name: John\n",
            "\n",
            "Attributes and values of student2:\n",
            "student_id: 102\n",
            "student_name: Alice\n"
          ]
        }
      ]
    },
    {
      "cell_type": "code",
      "source": [
        "#13  Write a Python class to convert an integer to a Roman numeral.\n",
        "class IntToRoman:\n",
        "    def __init__(self):\n",
        "        self.numeral_map = {\n",
        "            1: 'I', 4: 'IV', 5: 'V', 9: 'IX', 10: 'X',\n",
        "            40: 'XL', 50: 'L', 90: 'XC', 100: 'C',\n",
        "            400: 'CD', 500: 'D', 900: 'CM', 1000: 'M'\n",
        "        }\n",
        "\n",
        "    def int_to_roman(self, num):\n",
        "        roman_numeral = ''\n",
        "        for value, numeral in sorted(self.numeral_map.items(), reverse=True):\n",
        "            while num >= value:\n",
        "                roman_numeral += numeral\n",
        "                num -= value\n",
        "        return roman_numeral\n",
        "\n",
        "converter = IntToRoman()\n",
        "num = 354\n",
        "roman_numeral = converter.int_to_roman(num)\n",
        "print(f\"The Roman numeral representation of {num} is: {roman_numeral}\")\n"
      ],
      "metadata": {
        "colab": {
          "base_uri": "https://localhost:8080/"
        },
        "id": "ut_a5wy-HIbm",
        "outputId": "1943a28e-c8bb-4b3e-b6f1-a410c5e5bdf8"
      },
      "execution_count": 13,
      "outputs": [
        {
          "output_type": "stream",
          "name": "stdout",
          "text": [
            "The Roman numeral representation of 354 is: CCCLIV\n"
          ]
        }
      ]
    },
    {
      "cell_type": "code",
      "source": [
        "#14 Write a Python class to convert a Roman numeral to an integer.\n",
        "class RomanToInt:\n",
        "    def __init__(self):\n",
        "        self.numeral_map = {\n",
        "            'I': 1, 'V': 5, 'X': 10, 'L': 50,\n",
        "            'C': 100, 'D': 500, 'M': 1000\n",
        "        }\n",
        "\n",
        "    def roman_to_int(self, s: str) -> int:\n",
        "        result = 0\n",
        "        prev_value = 0\n",
        "        for char in reversed(s):\n",
        "            value = self.numeral_map[char]\n",
        "            if value < prev_value:\n",
        "                result -= value\n",
        "            else:\n",
        "                result += value\n",
        "            prev_value = value\n",
        "        return result\n",
        "\n",
        "converter = RomanToInt()\n",
        "roman_numeral = \"MMXXIV\"\n",
        "integer_value = converter.roman_to_int(roman_numeral)\n",
        "print(f\"The integer value of {roman_numeral} is: {integer_value}\")\n"
      ],
      "metadata": {
        "colab": {
          "base_uri": "https://localhost:8080/"
        },
        "id": "iv3gIP0lHVFK",
        "outputId": "2055557d-6bdb-43f4-a277-3bb9a422d228"
      },
      "execution_count": 14,
      "outputs": [
        {
          "output_type": "stream",
          "name": "stdout",
          "text": [
            "The integer value of MMXXIV is: 2024\n"
          ]
        }
      ]
    },
    {
      "cell_type": "code",
      "source": [
        "#15  Write a Python class to check the validity of a string of parentheses, '(', ')', '{', '}', '[' and ']. These brackets must be closed in the correct order, for example \"()\" and \"()[]{}\" are valid but \"[)\", \"({[)]\" and \"{{{\" are invalid.\n",
        "class ValidParentheses:\n",
        "    def is_valid(self, s: str) -> bool:\n",
        "        stack = []\n",
        "        mapping = {')': '(', '}': '{', ']': '['}\n",
        "        for char in s:\n",
        "            if char in mapping:\n",
        "                top_element = stack.pop() if stack else '#'\n",
        "                if mapping[char] != top_element:\n",
        "                    return False\n",
        "            else:\n",
        "                stack.append(char)\n",
        "        return not stack\n",
        "\n",
        "validator = ValidParentheses()\n",
        "test_cases = [\"()\", \"()[]{}\", \"[)\", \"({[)]\", \"{{{\"]\n",
        "for test_case in test_cases:\n",
        "    print(f\"Is '{test_case}' valid? {validator.is_valid(test_case)}\")\n"
      ],
      "metadata": {
        "colab": {
          "base_uri": "https://localhost:8080/"
        },
        "id": "O4zjsJEzHkKe",
        "outputId": "a4a3f0b8-5322-44cf-98ff-59cb2c711bcf"
      },
      "execution_count": 15,
      "outputs": [
        {
          "output_type": "stream",
          "name": "stdout",
          "text": [
            "Is '()' valid? True\n",
            "Is '()[]{}' valid? True\n",
            "Is '[)' valid? False\n",
            "Is '({[)]' valid? False\n",
            "Is '{{{' valid? False\n"
          ]
        }
      ]
    },
    {
      "cell_type": "code",
      "source": [
        "#16  Write a  Python class to get all possible unique subsets from a set of distinct integers.\n",
        "class UniqueSubsets:\n",
        "    def subsets(self, nums):\n",
        "        result = [[]]\n",
        "        for num in nums:\n",
        "            result += [curr + [num] for curr in result]\n",
        "        return result\n",
        "\n",
        "subset_generator = UniqueSubsets()\n",
        "input_set = [4, 5, 6]\n",
        "output_subsets = subset_generator.subsets(input_set)\n",
        "print(\"Input:\", input_set)\n",
        "print(\"Output:\", output_subsets)\n"
      ],
      "metadata": {
        "colab": {
          "base_uri": "https://localhost:8080/"
        },
        "id": "c_Vu2JGBHuM-",
        "outputId": "51d9e7bf-a5fd-4687-d7e3-ea04405aab12"
      },
      "execution_count": 16,
      "outputs": [
        {
          "output_type": "stream",
          "name": "stdout",
          "text": [
            "Input: [4, 5, 6]\n",
            "Output: [[], [4], [5], [4, 5], [6], [4, 6], [5, 6], [4, 5, 6]]\n"
          ]
        }
      ]
    },
    {
      "cell_type": "code",
      "source": [
        "#17 Write a  Python class to find a pair of elements (indices of the two numbers) from a given array whose sum equals a specific target number.\n",
        "class PairSumFinder:\n",
        "    def find_pair_indices(self, numbers, target):\n",
        "        seen = {}\n",
        "        for i, num in enumerate(numbers):\n",
        "            complement = target - num\n",
        "            if complement in seen:\n",
        "                return [seen[complement], i]\n",
        "            seen[num] = i\n",
        "        return None\n",
        "\n",
        "pair_finder = PairSumFinder()\n",
        "numbers = [10, 20, 10, 40, 50, 60, 70]\n",
        "target = 50\n",
        "indices = pair_finder.find_pair_indices(numbers, target)\n",
        "print(\"Input:\", numbers)\n",
        "print(\"Target:\", target)\n",
        "if indices is not None:\n",
        "    print(\"Output:\", indices[0], \",\", indices[1])\n",
        "else:\n",
        "    print(\"No pair found with the given target.\")\n"
      ],
      "metadata": {
        "colab": {
          "base_uri": "https://localhost:8080/"
        },
        "id": "SiSb7T-tH9HO",
        "outputId": "b7eedcdf-6a48-4e89-a31d-afaafa11af87"
      },
      "execution_count": 17,
      "outputs": [
        {
          "output_type": "stream",
          "name": "stdout",
          "text": [
            "Input: [10, 20, 10, 40, 50, 60, 70]\n",
            "Target: 50\n",
            "Output: 2 , 3\n"
          ]
        }
      ]
    },
    {
      "cell_type": "code",
      "source": [
        "#18  Write a Python class to find the three elements that sum to zero from a set of n real numbers.\n",
        "class ThreeSumFinder:\n",
        "    def three_sum(self, nums):\n",
        "        nums.sort()\n",
        "        result = []\n",
        "        for i in range(len(nums) - 2):\n",
        "            if i > 0 and nums[i] == nums[i - 1]:\n",
        "                continue\n",
        "            left, right = i + 1, len(nums) - 1\n",
        "            while left < right:\n",
        "                total = nums[i] + nums[left] + nums[right]\n",
        "                if total < 0:\n",
        "                    left += 1\n",
        "                elif total > 0:\n",
        "                    right -= 1\n",
        "                else:\n",
        "                    result.append([nums[i], nums[left], nums[right]])\n",
        "                    while left < right and nums[left] == nums[left + 1]:\n",
        "                        left += 1\n",
        "                    while left < right and nums[right] == nums[right - 1]:\n",
        "                        right -= 1\n",
        "                    left += 1\n",
        "                    right -= 1\n",
        "        return result\n",
        "\n",
        "\n",
        "three_sum_finder = ThreeSumFinder()\n",
        "nums = [-25, -10, -7, -3, 2, 4, 8, 10]\n",
        "result = three_sum_finder.three_sum(nums)\n",
        "print(\"Input array:\", nums)\n",
        "print(\"Output:\", result)\n"
      ],
      "metadata": {
        "colab": {
          "base_uri": "https://localhost:8080/"
        },
        "id": "aMojg7ZTILwu",
        "outputId": "404a2436-0f26-4c43-eb49-ad5f6eed1f0c"
      },
      "execution_count": 18,
      "outputs": [
        {
          "output_type": "stream",
          "name": "stdout",
          "text": [
            "Input array: [-25, -10, -7, -3, 2, 4, 8, 10]\n",
            "Output: [[-10, 2, 8], [-7, -3, 10]]\n"
          ]
        }
      ]
    },
    {
      "cell_type": "code",
      "source": [
        "#19 Write a  Python class to implement pow(x, n).\n",
        "class PowerCalculator:\n",
        "    def power(self, x, n):\n",
        "        if n == 0:\n",
        "            return 1\n",
        "        if n < 0:\n",
        "            x = 1 / x\n",
        "            n = -n\n",
        "        result = 1\n",
        "        while n > 0:\n",
        "            if n % 2 == 1:\n",
        "                result *= x\n",
        "            x *= x\n",
        "            n //= 2\n",
        "        return result\n",
        "\n",
        "power_calculator = PowerCalculator()\n",
        "x = 2\n",
        "n = 3\n",
        "result = power_calculator.power(x, n)\n",
        "print(f\"{x} raised to the power of {n} is:\", result)\n"
      ],
      "metadata": {
        "colab": {
          "base_uri": "https://localhost:8080/"
        },
        "id": "9oDZTBhFIkn8",
        "outputId": "e2dae0e3-d846-4826-e950-74d610cb2559"
      },
      "execution_count": 19,
      "outputs": [
        {
          "output_type": "stream",
          "name": "stdout",
          "text": [
            "2 raised to the power of 3 is: 8\n"
          ]
        }
      ]
    },
    {
      "cell_type": "code",
      "source": [
        "#20 Write a  Python class to reverse a string word by word.\n",
        "class StringReverser:\n",
        "    def reverse_words(self, input_string):\n",
        "        words = input_string.split()\n",
        "\n",
        "        reversed_words = words[::-1]\n",
        "\n",
        "        reversed_string = ' '.join(reversed_words)\n",
        "\n",
        "        return reversed_string\n",
        "\n",
        "input_string = 'hello . py'\n",
        "reverser = StringReverser()\n",
        "output_string = reverser.reverse_words(input_string)\n",
        "print(\"Input string:\", input_string)\n",
        "print(\"Reversed string:\", output_string)\n"
      ],
      "metadata": {
        "colab": {
          "base_uri": "https://localhost:8080/"
        },
        "id": "2hQzX1Y_Ivmb",
        "outputId": "88c81cd0-5cbe-4d06-a60f-706e66a6d42a"
      },
      "execution_count": 20,
      "outputs": [
        {
          "output_type": "stream",
          "name": "stdout",
          "text": [
            "Input string: hello . py\n",
            "Reversed string: py . hello\n"
          ]
        }
      ]
    },
    {
      "cell_type": "code",
      "source": [
        "#21 Write a Python class that has two methods: get_String and print_String , get_String accept a string from the user and print_String prints the string in upper case.\n",
        "class StringManipulator:\n",
        "    def __init__(self):\n",
        "        self.input_string = \"\"\n",
        "\n",
        "    def get_String(self):\n",
        "        self.input_string = input(\"Enter a string: \")\n",
        "\n",
        "    def print_String(self):\n",
        "        print(\"Input string in uppercase:\", self.input_string.upper())\n",
        "\n",
        "manipulator = StringManipulator()\n",
        "manipulator.get_String()\n",
        "manipulator.print_String()\n"
      ],
      "metadata": {
        "colab": {
          "base_uri": "https://localhost:8080/"
        },
        "id": "q5lRhlmNJaMy",
        "outputId": "34983324-228b-4bfd-b0fc-002cab48619c"
      },
      "execution_count": 21,
      "outputs": [
        {
          "output_type": "stream",
          "name": "stdout",
          "text": [
            "Enter a string: hej\n",
            "Input string in uppercase: HEJ\n"
          ]
        }
      ]
    },
    {
      "cell_type": "code",
      "source": [
        "#22  Write a Python class named Rectangle constructed from length and width and a method that will compute the area of a rectangle.\n",
        "class Rectangle:\n",
        "    def __init__(self, length, width):\n",
        "        self.length = length\n",
        "        self.width = width\n",
        "\n",
        "    def compute_area(self):\n",
        "        return self.length * self.width\n",
        "\n",
        "my_rectangle = Rectangle(5, 3)\n",
        "\n",
        "print(\"Area of the rectangle:\", my_rectangle.compute_area())\n"
      ],
      "metadata": {
        "colab": {
          "base_uri": "https://localhost:8080/"
        },
        "id": "PyzvbKzhJoGr",
        "outputId": "a3bfdb37-e79d-410d-e281-072d46a61c91"
      },
      "execution_count": 22,
      "outputs": [
        {
          "output_type": "stream",
          "name": "stdout",
          "text": [
            "Area of the rectangle: 15\n"
          ]
        }
      ]
    },
    {
      "cell_type": "code",
      "source": [
        "#23 Write a Python class named Circle constructed from a radius and two methods that will compute the area and the perimeter of a circle.\n",
        "import math\n",
        "\n",
        "class Circle:\n",
        "    def __init__(self, radius):\n",
        "        self.radius = radius\n",
        "\n",
        "    def compute_area(self):\n",
        "        return math.pi * self.radius ** 2\n",
        "\n",
        "    def compute_perimeter(self):\n",
        "        return 2 * math.pi * self.radius\n",
        "\n",
        "my_circle = Circle(4)\n",
        "\n",
        "print(\"Area of the circle:\", my_circle.compute_area())\n",
        "\n",
        "\n",
        "print(\"Perimeter of the circle:\", my_circle.compute_perimeter())\n"
      ],
      "metadata": {
        "colab": {
          "base_uri": "https://localhost:8080/"
        },
        "id": "wdr3IshwJ2GZ",
        "outputId": "f2eef53b-0ca9-44a3-cba5-ded4a30b7c07"
      },
      "execution_count": 23,
      "outputs": [
        {
          "output_type": "stream",
          "name": "stdout",
          "text": [
            "Area of the circle: 50.26548245743669\n",
            "Perimeter of the circle: 25.132741228718345\n"
          ]
        }
      ]
    },
    {
      "cell_type": "code",
      "source": [
        "#24  Write a  Python program to get the class name of an instance in  Python.\n",
        "class MyClass:\n",
        "    pass\n",
        "\n",
        "my_instance = MyClass()\n",
        "\n",
        "class_name = type(my_instance).__name__\n",
        "\n",
        "print(\"Class name of the instance:\", class_name)\n"
      ],
      "metadata": {
        "colab": {
          "base_uri": "https://localhost:8080/"
        },
        "id": "kNz_pP5SKIJ2",
        "outputId": "697be22c-9903-4008-f4a0-a9403e267ab3"
      },
      "execution_count": 24,
      "outputs": [
        {
          "output_type": "stream",
          "name": "stdout",
          "text": [
            "Class name of the instance: MyClass\n"
          ]
        }
      ]
    },
    {
      "cell_type": "code",
      "source": [
        "#25 Write a Python class Employee with attributes like emp_id, emp_name, emp_salary, and emp_department and methods like calculate_emp_salary, emp_assign_department, and print_employee_details.\n",
        "class Employee:\n",
        "    def __init__(self, emp_name, emp_id, emp_salary, emp_department):\n",
        "        self.emp_name = emp_name\n",
        "        self.emp_id = emp_id\n",
        "        self.emp_salary = emp_salary\n",
        "        self.emp_department = emp_department\n",
        "\n",
        "    def calculate_emp_salary(self):\n",
        "        return self.emp_salary\n",
        "\n",
        "    def emp_assign_department(self, new_department):\n",
        "        self.emp_department = new_department\n",
        "\n",
        "    def print_employee_details(self):\n",
        "        print(\"Employee ID:\", self.emp_id)\n",
        "        print(\"Employee Name:\", self.emp_name)\n",
        "        print(\"Employee Salary:\", self.emp_salary)\n",
        "        print(\"Employee Department:\", self.emp_department)\n",
        "        print()\n",
        "\n",
        "employee_data = [\n",
        "    (\"ADAMS\", \"E7876\", 50000, \"ACCOUNTING\"),\n",
        "    (\"JONES\", \"E7499\", 45000, \"RESEARCH\"),\n",
        "    (\"MARTIN\", \"E7900\", 50000, \"SALES\"),\n",
        "    (\"SMITH\", \"E7698\", 55000, \"OPERATIONS\")\n",
        "]\n",
        "\n",
        "for emp_data in employee_data:\n",
        "    emp = Employee(*emp_data)\n",
        "    emp.print_employee_details()\n"
      ],
      "metadata": {
        "colab": {
          "base_uri": "https://localhost:8080/"
        },
        "id": "3iLMfSGiKS0f",
        "outputId": "229984be-44e3-49a3-d287-25e2c799e930"
      },
      "execution_count": 25,
      "outputs": [
        {
          "output_type": "stream",
          "name": "stdout",
          "text": [
            "Employee ID: E7876\n",
            "Employee Name: ADAMS\n",
            "Employee Salary: 50000\n",
            "Employee Department: ACCOUNTING\n",
            "\n",
            "Employee ID: E7499\n",
            "Employee Name: JONES\n",
            "Employee Salary: 45000\n",
            "Employee Department: RESEARCH\n",
            "\n",
            "Employee ID: E7900\n",
            "Employee Name: MARTIN\n",
            "Employee Salary: 50000\n",
            "Employee Department: SALES\n",
            "\n",
            "Employee ID: E7698\n",
            "Employee Name: SMITH\n",
            "Employee Salary: 55000\n",
            "Employee Department: OPERATIONS\n",
            "\n"
          ]
        }
      ]
    },
    {
      "cell_type": "code",
      "source": [
        "#26  Write a  Python class Restaurant with attributes like menu_items, book_table, and customer_orders, and methods like add_item_to_menu, book_tables, and customer_order.\n",
        "class Restaurant:\n",
        "    def __init__(self):\n",
        "        self.menu_items = {}\n",
        "        self.table_reservations = {}\n",
        "        self.customer_orders = []\n",
        "\n",
        "    def add_item_to_menu(self, item_name, item_price):\n",
        "        self.menu_items[item_name] = item_price\n",
        "\n",
        "    def book_table(self, table_number, reservation_name):\n",
        "        self.table_reservations[table_number] = reservation_name\n",
        "\n",
        "    def customer_order(self, table_number, order_items):\n",
        "        self.customer_orders.append({\"table_number\": table_number, \"items\": order_items})\n",
        "\n",
        "    def print_menu(self):\n",
        "        print(\"Menu:\")\n",
        "        for item, price in self.menu_items.items():\n",
        "            print(f\"{item}: ${price}\")\n",
        "\n",
        "    def print_table_reservations(self):\n",
        "        print(\"Table Reservations:\")\n",
        "        for table_number, reservation_name in self.table_reservations.items():\n",
        "            print(f\"Table {table_number}: {reservation_name}\")\n",
        "\n",
        "    def print_customer_orders(self):\n",
        "        print(\"Customer Orders:\")\n",
        "        for order in self.customer_orders:\n",
        "            print(f\"Table {order['table_number']} ordered: {', '.join(order['items'])}\")\n",
        "\n",
        "restaurant = Restaurant()\n",
        "\n",
        "restaurant.add_item_to_menu(\"Burger\", 10)\n",
        "restaurant.add_item_to_menu(\"Pizza\", 12)\n",
        "restaurant.add_item_to_menu(\"Salad\", 8)\n",
        "\n",
        "restaurant.book_table(1, \"John\")\n",
        "restaurant.book_table(2, \"Alice\")\n",
        "restaurant.book_table(3, \"Bob\")\n",
        "\n",
        "restaurant.customer_order(1, [\"Burger\", \"Pizza\"])\n",
        "restaurant.customer_order(2, [\"Salad\", \"Pizza\"])\n",
        "restaurant.customer_order(3, [\"Burger\", \"Salad\"])\n",
        "\n",
        "restaurant.print_menu()\n",
        "\n",
        "restaurant.print_table_reservations()\n",
        "\n",
        "restaurant.print_customer_orders()"
      ],
      "metadata": {
        "colab": {
          "base_uri": "https://localhost:8080/"
        },
        "id": "q4_smsv7KhlU",
        "outputId": "4eb152c7-d9ec-47ae-d1b9-282bd9602595"
      },
      "execution_count": 26,
      "outputs": [
        {
          "output_type": "stream",
          "name": "stdout",
          "text": [
            "Menu:\n",
            "Burger: $10\n",
            "Pizza: $12\n",
            "Salad: $8\n",
            "Table Reservations:\n",
            "Table 1: John\n",
            "Table 2: Alice\n",
            "Table 3: Bob\n",
            "Customer Orders:\n",
            "Table 1 ordered: Burger, Pizza\n",
            "Table 2 ordered: Salad, Pizza\n",
            "Table 3 ordered: Burger, Salad\n"
          ]
        }
      ]
    },
    {
      "cell_type": "code",
      "source": [
        "#27 Write a  Python class BankAccount with attributes like account_number, balance, date_of_opening and customer_name, and methods like deposit, withdraw, and check_balance.\n",
        "class BankAccount:\n",
        "    def __init__(self, account_number, balance, date_of_opening, customer_name):\n",
        "        self.account_number = account_number\n",
        "        self.balance = balance\n",
        "        self.date_of_opening = date_of_opening\n",
        "        self.customer_name = customer_name\n",
        "\n",
        "    def deposit(self, amount):\n",
        "        self.balance += amount\n",
        "        print(f\"Deposited ${amount}. New balance: ${self.balance}\")\n",
        "\n",
        "    def withdraw(self, amount):\n",
        "        if self.balance >= amount:\n",
        "            self.balance -= amount\n",
        "            print(f\"Withdrew ${amount}. New balance: ${self.balance}\")\n",
        "        else:\n",
        "            print(\"Insufficient funds\")\n",
        "\n",
        "    def check_balance(self):\n",
        "        print(f\"Account Balance: ${self.balance}\")\n",
        "\n",
        "account = BankAccount(\"123456\", 1000, \"2024-05-31\", \"John Doe\")\n",
        "\n",
        "account.check_balance()\n",
        "account.deposit(500)\n",
        "account.withdraw(200)\n",
        "account.check_balance()\n"
      ],
      "metadata": {
        "colab": {
          "base_uri": "https://localhost:8080/"
        },
        "id": "vVAQawB5K08t",
        "outputId": "bc02aea8-e994-4f5b-b457-67170c6d9ce3"
      },
      "execution_count": 27,
      "outputs": [
        {
          "output_type": "stream",
          "name": "stdout",
          "text": [
            "Account Balance: $1000\n",
            "Deposited $500. New balance: $1500\n",
            "Withdrew $200. New balance: $1300\n",
            "Account Balance: $1300\n"
          ]
        }
      ]
    },
    {
      "cell_type": "code",
      "source": [
        "#28 Write a Python class Inventory with attributes like item_id, item_name, stock_count, and price, and methods like add_item, update_item, and check_item_details.\n",
        "#Use a dictionary to store the item details, where the key is the item_id and the value is a dictionary containing the item_name, stock_count, and price.\n",
        "class Inventory:\n",
        "    def __init__(self):\n",
        "        self.item_details = {}\n",
        "\n",
        "    def add_item(self, item_id, item_name, stock_count, price):\n",
        "        if item_id not in self.item_details:\n",
        "            self.item_details[item_id] = {\"item_name\": item_name, \"stock_count\": stock_count, \"price\": price}\n",
        "            print(f\"Item with ID {item_id} added to inventory.\")\n",
        "        else:\n",
        "            print(f\"Item with ID {item_id} already exists in inventory.\")\n",
        "\n",
        "    def update_item(self, item_id, item_name=None, stock_count=None, price=None):\n",
        "        if item_id in self.item_details:\n",
        "            if item_name:\n",
        "                self.item_details[item_id][\"item_name\"] = item_name\n",
        "            if stock_count is not None:\n",
        "                self.item_details[item_id][\"stock_count\"] = stock_count\n",
        "            if price is not None:\n",
        "                self.item_details[item_id][\"price\"] = price\n",
        "            print(f\"Item with ID {item_id} updated successfully.\")\n",
        "        else:\n",
        "            print(f\"Item with ID {item_id} does not exist in inventory.\")\n",
        "\n",
        "    def check_item_details(self, item_id):\n",
        "        if item_id in self.item_details:\n",
        "            details = self.item_details[item_id]\n",
        "            print(f\"Item ID: {item_id}\")\n",
        "            print(f\"Item Name: {details['item_name']}\")\n",
        "            print(f\"Stock Count: {details['stock_count']}\")\n",
        "            print(f\"Price: ${details['price']}\")\n",
        "        else:\n",
        "            print(f\"Item with ID {item_id} does not exist in inventory.\")\n",
        "\n",
        "inventory = Inventory()\n",
        "\n",
        "inventory.add_item(\"1001\", \"Laptop\", 10, 1000)\n",
        "inventory.add_item(\"1002\", \"Smartphone\", 20, 800)\n",
        "\n",
        "inventory.update_item(\"1001\", stock_count=15)\n",
        "\n",
        "inventory.check_item_details(\"1001\")\n",
        "inventory.check_item_details(\"1003\")\n"
      ],
      "metadata": {
        "colab": {
          "base_uri": "https://localhost:8080/"
        },
        "id": "J6KkuaGLLFvL",
        "outputId": "9d2e425d-4b7f-453d-f9aa-479e40f56480"
      },
      "execution_count": 28,
      "outputs": [
        {
          "output_type": "stream",
          "name": "stdout",
          "text": [
            "Item with ID 1001 added to inventory.\n",
            "Item with ID 1002 added to inventory.\n",
            "Item with ID 1001 updated successfully.\n",
            "Item ID: 1001\n",
            "Item Name: Laptop\n",
            "Stock Count: 15\n",
            "Price: $1000\n",
            "Item with ID 1003 does not exist in inventory.\n"
          ]
        }
      ]
    }
  ]
}