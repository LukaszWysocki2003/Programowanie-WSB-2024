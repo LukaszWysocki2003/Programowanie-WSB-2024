{
  "cells": [
    {
      "cell_type": "code",
      "source": [
        "#1\tWrite a  Python function to find the maximum of three numbers:\n",
        "def find_maximum_of_three(a, b, c):\n",
        "    if a >= b and a >= c:\n",
        "        return a\n",
        "    elif b >= a and b >= c:\n",
        "        return b\n",
        "    else:\n",
        "        return c\n",
        "\n",
        "num1 = 10\n",
        "num2 = 20\n",
        "num3 = 30\n",
        "\n",
        "print(\"The maximum of the three numbers is:\", find_maximum_of_three(num1, num2, num3))\n"
      ],
      "metadata": {
        "colab": {
          "base_uri": "https://localhost:8080/"
        },
        "id": "JFaCMF98pawV",
        "outputId": "a5ccc845-e834-4baf-ffc9-e28031e9968a"
      },
      "execution_count": 1,
      "outputs": [
        {
          "output_type": "stream",
          "name": "stdout",
          "text": [
            "The maximum of the three numbers is: 30\n"
          ]
        }
      ]
    },
    {
      "cell_type": "code",
      "source": [
        "#2 Write a Python function to sum all the numbers in a list.\n",
        "def sum_of_list(numbers):\n",
        "    total = 0\n",
        "    for number in numbers:\n",
        "        total += number\n",
        "    return total\n",
        "\n",
        "sample_list = [8, 2, 3, 0, 7]\n",
        "print(\"The sum of the numbers in the list is:\", sum_of_list(sample_list))\n"
      ],
      "metadata": {
        "colab": {
          "base_uri": "https://localhost:8080/"
        },
        "id": "JUwLaYPNpxu9",
        "outputId": "dd4751d0-9c80-4219-df52-6e4c09f2773e"
      },
      "execution_count": 2,
      "outputs": [
        {
          "output_type": "stream",
          "name": "stdout",
          "text": [
            "The sum of the numbers in the list is: 20\n"
          ]
        }
      ]
    },
    {
      "cell_type": "code",
      "source": [
        "#3 Write a  Python function to multiply all the numbers in a list.\n",
        "def multiply_list(numbers):\n",
        "    result = 1\n",
        "    for number in numbers:\n",
        "        result *= number\n",
        "    return result\n",
        "\n",
        "sample_list = [8, 2, 3, -1, 7]\n",
        "print(\"The product of the numbers in the list is:\", multiply_list(sample_list))\n"
      ],
      "metadata": {
        "colab": {
          "base_uri": "https://localhost:8080/"
        },
        "id": "x35d8WdDqFNP",
        "outputId": "c0651d76-49a6-4d14-dcad-ddf8ee021dc4"
      },
      "execution_count": 3,
      "outputs": [
        {
          "output_type": "stream",
          "name": "stdout",
          "text": [
            "The product of the numbers in the list is: -336\n"
          ]
        }
      ]
    },
    {
      "cell_type": "code",
      "source": [
        "#4 Write a Python program to reverse a string.\n",
        "def reverse_string(s):\n",
        "    return s[::-1]\n",
        "\n",
        "sample_string = \"1234abcd\"\n",
        "print(\"The reversed string is:\", reverse_string(sample_string))\n"
      ],
      "metadata": {
        "colab": {
          "base_uri": "https://localhost:8080/"
        },
        "id": "BHO5HaRvqShQ",
        "outputId": "780ae7b3-7b05-473a-c7aa-97b5cd0cdddb"
      },
      "execution_count": 4,
      "outputs": [
        {
          "output_type": "stream",
          "name": "stdout",
          "text": [
            "The reversed string is: dcba4321\n"
          ]
        }
      ]
    },
    {
      "cell_type": "code",
      "source": [
        "#5 Write a Python function to calculate the factorial of a number (a non-negative integer).\n",
        "#The function accepts the number as an argument.\n",
        "def factorial(n):\n",
        "    if n == 0 or n == 1:\n",
        "        return 1\n",
        "    else:\n",
        "        result = 1\n",
        "        for i in range(2, n + 1):\n",
        "            result *= i\n",
        "        return result\n",
        "\n",
        "number = 5\n",
        "print(\"The factorial of\", number, \"is:\", factorial(number))\n"
      ],
      "metadata": {
        "colab": {
          "base_uri": "https://localhost:8080/"
        },
        "id": "UEhRs9teqfbG",
        "outputId": "cded373d-4f04-4210-8681-5f869806972c"
      },
      "execution_count": 5,
      "outputs": [
        {
          "output_type": "stream",
          "name": "stdout",
          "text": [
            "The factorial of 5 is: 120\n"
          ]
        }
      ]
    },
    {
      "cell_type": "code",
      "source": [
        "#6 Write a  Python function to check whether a number falls within a given range.\n",
        "def is_in_range(number, start, end):\n",
        "    return start <= number <= end\n",
        "\n",
        "number = 5\n",
        "range_start = 1\n",
        "range_end = 10\n",
        "\n",
        "print(f\"Is {number} in the range {range_start} to {range_end}? {is_in_range(number, range_start, range_end)}\")\n"
      ],
      "metadata": {
        "colab": {
          "base_uri": "https://localhost:8080/"
        },
        "id": "nYvVp1dj4Nxa",
        "outputId": "e2d1e034-0315-46a2-827a-5730ad2b478e"
      },
      "execution_count": 6,
      "outputs": [
        {
          "output_type": "stream",
          "name": "stdout",
          "text": [
            "Is 5 in the range 1 to 10? True\n"
          ]
        }
      ]
    },
    {
      "cell_type": "code",
      "source": [
        "#7  Write a Python function that accepts a string and counts the number of upper and lower case letters.\n",
        "def count_upper_lower(s):\n",
        "    upper_count = 0\n",
        "    lower_count = 0\n",
        "    for char in s:\n",
        "        if char.isupper():\n",
        "            upper_count += 1\n",
        "        elif char.islower():\n",
        "            lower_count += 1\n",
        "    return upper_count, lower_count\n",
        "\n",
        "sample_string = 'The quick Brow Fox'\n",
        "upper_count, lower_count = count_upper_lower(sample_string)\n",
        "print(\"No. of Upper case characters:\", upper_count)\n",
        "print(\"No. of Lower case Characters:\", lower_count)\n"
      ],
      "metadata": {
        "colab": {
          "base_uri": "https://localhost:8080/"
        },
        "id": "YBINyEiY4eiG",
        "outputId": "899e9a05-1533-4830-a7ba-76edafe5ee48"
      },
      "execution_count": 7,
      "outputs": [
        {
          "output_type": "stream",
          "name": "stdout",
          "text": [
            "No. of Upper case characters: 3\n",
            "No. of Lower case Characters: 12\n"
          ]
        }
      ]
    },
    {
      "cell_type": "code",
      "source": [
        "#8 Write a  Python function that takes a list and returns a new list with distinct elements from the first list.\n",
        "def unique_elements(lst):\n",
        "    return list(set(lst))\n",
        "\n",
        "sample_list = [1, 2, 3, 3, 3, 3, 4, 5]\n",
        "unique_list = unique_elements(sample_list)\n",
        "print(\"Unique List:\", unique_list)\n"
      ],
      "metadata": {
        "colab": {
          "base_uri": "https://localhost:8080/"
        },
        "id": "uuXwuM-N4tPw",
        "outputId": "43a71f03-09c7-4a7c-f84c-123c6cf73471"
      },
      "execution_count": 8,
      "outputs": [
        {
          "output_type": "stream",
          "name": "stdout",
          "text": [
            "Unique List: [1, 2, 3, 4, 5]\n"
          ]
        }
      ]
    },
    {
      "cell_type": "code",
      "source": [
        "#9 Write a Python function that takes a number as a parameter and checks whether the number is prime or not.\n",
        "def is_prime(n):\n",
        "    if n <= 1:\n",
        "        return False\n",
        "    for i in range(2, int(n**0.5) + 1):\n",
        "        if n % i == 0:\n",
        "            return False\n",
        "    return True\n",
        "\n",
        "number = 29\n",
        "print(f\"Is {number} a prime number? {is_prime(number)}\")\n"
      ],
      "metadata": {
        "colab": {
          "base_uri": "https://localhost:8080/"
        },
        "id": "-LJhlFxr5A0Y",
        "outputId": "04e92f55-f6dc-46ce-c252-d627369345d4"
      },
      "execution_count": 9,
      "outputs": [
        {
          "output_type": "stream",
          "name": "stdout",
          "text": [
            "Is 29 a prime number? True\n"
          ]
        }
      ]
    },
    {
      "cell_type": "code",
      "source": [
        "#10 Write a  Python program to print the even numbers from a given list.\n",
        "def print_even_numbers(lst):\n",
        "    even_numbers = [num for num in lst if num % 2 == 0]\n",
        "    return even_numbers\n",
        "\n",
        "sample_list = [1, 2, 3, 4, 5, 6, 7, 8, 9]\n",
        "result = print_even_numbers(sample_list)\n",
        "print(\"Expected Result:\", result)\n"
      ],
      "metadata": {
        "colab": {
          "base_uri": "https://localhost:8080/"
        },
        "id": "SybLKsls5R51",
        "outputId": "865a3c2d-e6f2-4373-cbf6-1677d8dd5403"
      },
      "execution_count": 10,
      "outputs": [
        {
          "output_type": "stream",
          "name": "stdout",
          "text": [
            "Expected Result: [2, 4, 6, 8]\n"
          ]
        }
      ]
    },
    {
      "cell_type": "code",
      "source": [
        "#11 Write a  Python function that checks whether a passed string is a palindrome or not.\n",
        "def is_palindrome(s):\n",
        "    s = s.lower()\n",
        "    s = ''.join(char for char in s if char.isalnum())\n",
        "    return s == s[::-1]\n",
        "\n",
        "string = \"Madam\"\n",
        "print(f\"Is '{string}' a palindrome? {is_palindrome(string)}\")\n",
        "\n",
        "string = \"nurses run\"\n",
        "print(f\"Is '{string}' a palindrome? {is_palindrome(string)}\")\n"
      ],
      "metadata": {
        "colab": {
          "base_uri": "https://localhost:8080/"
        },
        "id": "2-DkCg1b5d6X",
        "outputId": "c2a44101-9823-495e-e489-d2a5c23687f3"
      },
      "execution_count": 11,
      "outputs": [
        {
          "output_type": "stream",
          "name": "stdout",
          "text": [
            "Is 'Madam' a palindrome? True\n",
            "Is 'nurses run' a palindrome? True\n"
          ]
        }
      ]
    },
    {
      "cell_type": "code",
      "source": [
        "#12 Write a  Python function that prints out the first n rows of Pascal's triangle.\n",
        "def print_pascals_triangle(n):\n",
        "    triangle = []\n",
        "    for i in range(n):\n",
        "        row = [1]\n",
        "        if i > 0:\n",
        "            prev_row = triangle[-1]\n",
        "            for j in range(len(prev_row) - 1):\n",
        "                row.append(prev_row[j] + prev_row[j + 1])\n",
        "            row.append(1)\n",
        "        triangle.append(row)\n",
        "    for row in triangle:\n",
        "        print(\" \".join(map(str, row)).center(n * 4))\n",
        "\n",
        "n = 5\n",
        "print(f\"The first {n} rows of Pascal's triangle:\")\n",
        "print_pascals_triangle(n)\n"
      ],
      "metadata": {
        "colab": {
          "base_uri": "https://localhost:8080/"
        },
        "id": "tVI1XYIQ5uuN",
        "outputId": "a89c4c60-865b-4b02-dec9-d95786e333a8"
      },
      "execution_count": 12,
      "outputs": [
        {
          "output_type": "stream",
          "name": "stdout",
          "text": [
            "The first 5 rows of Pascal's triangle:\n",
            "         1          \n",
            "        1 1         \n",
            "       1 2 1        \n",
            "      1 3 3 1       \n",
            "     1 4 6 4 1      \n"
          ]
        }
      ]
    },
    {
      "cell_type": "code",
      "source": [
        "#13 Write a Python function to check whether a string is a pangram or not.\n",
        "def is_pangram(sentence):\n",
        "    alphabet = \"abcdefghijklmnopqrstuvwxyz\"\n",
        "    for char in alphabet:\n",
        "        if char not in sentence.lower():\n",
        "            return False\n",
        "    return True\n",
        "\n",
        "sentence = \"The quick brown fox jumps over the lazy dog\"\n",
        "print(\"Is the sentence a pangram?\", is_pangram(sentence))\n"
      ],
      "metadata": {
        "colab": {
          "base_uri": "https://localhost:8080/"
        },
        "id": "Wgm6KvNe6HTX",
        "outputId": "e50185a7-fe2a-403a-f616-2279aaba0682"
      },
      "execution_count": 13,
      "outputs": [
        {
          "output_type": "stream",
          "name": "stdout",
          "text": [
            "Is the sentence a pangram? True\n"
          ]
        }
      ]
    },
    {
      "cell_type": "code",
      "source": [
        "#14 Write a  Python program that accepts a hyphen-separated sequence of words as input and prints the words in a hyphen-separated sequence after sorting them alphabetically.\n",
        "def sort_hyphen_separated_sequence(sequence):\n",
        "    words = sequence.split('-')\n",
        "\n",
        "    sorted_words = sorted(words)\n",
        "\n",
        "    sorted_sequence = '-'.join(sorted_words)\n",
        "\n",
        "    return sorted_sequence\n",
        "\n",
        "sample_sequence = \"green-red-yellow-black-white\"\n",
        "result = sort_hyphen_separated_sequence(sample_sequence)\n",
        "print(\"Expected Result:\", result)\n"
      ],
      "metadata": {
        "colab": {
          "base_uri": "https://localhost:8080/"
        },
        "id": "ncsfPRqP6TbW",
        "outputId": "f27e8ef8-1d0c-4219-af0a-5e794127ee25"
      },
      "execution_count": 14,
      "outputs": [
        {
          "output_type": "stream",
          "name": "stdout",
          "text": [
            "Expected Result: black-green-red-white-yellow\n"
          ]
        }
      ]
    },
    {
      "cell_type": "code",
      "source": [
        "#15 Write a  Python function to create and print a list where the values are the squares of numbers between 1 and 30 (both included).\n",
        "def squares_of_numbers():\n",
        "    squares_list = [x ** 2 for x in range(1, 31)]\n",
        "    return squares_list\n",
        "\n",
        "result = squares_of_numbers()\n",
        "print(\"List of squares of numbers between 1 and 30:\")\n",
        "print(result)\n"
      ],
      "metadata": {
        "colab": {
          "base_uri": "https://localhost:8080/"
        },
        "id": "abfVMnxI6r9p",
        "outputId": "d6996cde-1f05-44d1-810a-85064ec6c4fa"
      },
      "execution_count": 16,
      "outputs": [
        {
          "output_type": "stream",
          "name": "stdout",
          "text": [
            "List of squares of numbers between 1 and 30:\n",
            "[1, 4, 9, 16, 25, 36, 49, 64, 81, 100, 121, 144, 169, 196, 225, 256, 289, 324, 361, 400, 441, 484, 529, 576, 625, 676, 729, 784, 841, 900]\n"
          ]
        }
      ]
    },
    {
      "cell_type": "code",
      "source": [
        "#16 Write a Python program to create a chain of function decorators (bold, italic, underline etc.).\n",
        "def make_bold(func):\n",
        "    def wrapper(*args, **kwargs):\n",
        "        return \"<b>\" + func(*args, **kwargs) + \"</b>\"\n",
        "    return wrapper\n",
        "\n",
        "def make_italic(func):\n",
        "    def wrapper(*args, **kwargs):\n",
        "        return \"<i>\" + func(*args, **kwargs) + \"</i>\"\n",
        "    return wrapper\n",
        "\n",
        "def make_underline(func):\n",
        "    def wrapper(*args, **kwargs):\n",
        "        return \"<u>\" + func(*args, **kwargs) + \"</u>\"\n",
        "    return wrapper\n",
        "\n",
        "@make_bold\n",
        "@make_italic\n",
        "@make_underline\n",
        "def decorate_text(text):\n",
        "    return text\n",
        "\n",
        "text = \"Hello, World!\"\n",
        "decorated_text = decorate_text(text)\n",
        "print(\"Decorated Text:\", decorated_text)\n"
      ],
      "metadata": {
        "colab": {
          "base_uri": "https://localhost:8080/"
        },
        "id": "9iutmQYh7Hnq",
        "outputId": "d51233e5-8fbd-4b90-9f10-e88be5237e6b"
      },
      "execution_count": 17,
      "outputs": [
        {
          "output_type": "stream",
          "name": "stdout",
          "text": [
            "Decorated Text: <b><i><u>Hello, World!</u></i></b>\n"
          ]
        }
      ]
    },
    {
      "cell_type": "code",
      "source": [
        "#17 Write a Python program to execute a string containing\n",
        "code_string = '''\n",
        "def greet(name):\n",
        "    print(\"Hello,\", name)\n",
        "\n",
        "greet(\"World\")\n",
        "'''\n",
        "\n",
        "exec(code_string)\n"
      ],
      "metadata": {
        "colab": {
          "base_uri": "https://localhost:8080/"
        },
        "id": "C7cnHzmT7a2g",
        "outputId": "3207d91f-acfd-4d5c-9bf3-e0634ceaac5c"
      },
      "execution_count": 18,
      "outputs": [
        {
          "output_type": "stream",
          "name": "stdout",
          "text": [
            "Hello, World\n"
          ]
        }
      ]
    },
    {
      "cell_type": "code",
      "source": [
        "#18  Write a Python program to access a function inside a function.\n",
        "def outer_function():\n",
        "    print(\"This is the outer function.\")\n",
        "\n",
        "    def inner_function():\n",
        "        print(\"This is the inner function.\")\n",
        "\n",
        "    inner_function()\n",
        "\n",
        "outer_function()\n"
      ],
      "metadata": {
        "colab": {
          "base_uri": "https://localhost:8080/"
        },
        "id": "UC1Pl8It7tNb",
        "outputId": "07ca3f59-f6a0-4534-9a85-b8560a26298b"
      },
      "execution_count": 19,
      "outputs": [
        {
          "output_type": "stream",
          "name": "stdout",
          "text": [
            "This is the outer function.\n",
            "This is the inner function.\n"
          ]
        }
      ]
    },
    {
      "cell_type": "code",
      "source": [
        "#19  Write a  Python program to detect the number of local variables declared in a function.\n",
        "def count_local_variables():\n",
        "    var1 = 10\n",
        "    var2 = \"hello\"\n",
        "    var3 = [1, 2, 3]\n",
        "\n",
        "    local_vars = locals()\n",
        "\n",
        "    num_local_vars = len(local_vars)\n",
        "\n",
        "    return num_local_vars\n",
        "\n",
        "num_locals = count_local_variables()\n",
        "print(\"Number of local variables declared in the function:\", num_locals)\n"
      ],
      "metadata": {
        "colab": {
          "base_uri": "https://localhost:8080/"
        },
        "id": "qZrSynHf75XY",
        "outputId": "1a12162c-478f-4053-dc05-391cb3ab0f0a"
      },
      "execution_count": 20,
      "outputs": [
        {
          "output_type": "stream",
          "name": "stdout",
          "text": [
            "Number of local variables declared in the function: 3\n"
          ]
        }
      ]
    },
    {
      "cell_type": "code",
      "source": [
        "#20  Write a Python program that invokes a function after a specified period of time.\n",
        "import time\n",
        "import math\n",
        "\n",
        "def square_root(x):\n",
        "    return math.sqrt(x)\n",
        "\n",
        "milliseconds = [1000, 2000, 3000]\n",
        "\n",
        "print(\"Square root after specific milliseconds:\")\n",
        "for ms in milliseconds:\n",
        "    time.sleep(ms / 1000)\n",
        "    result = square_root(ms)\n",
        "    print(result)\n"
      ],
      "metadata": {
        "colab": {
          "base_uri": "https://localhost:8080/"
        },
        "id": "lqCOmbG-8FkG",
        "outputId": "6b387b7e-911e-429c-ad7b-4b38ddc54c97"
      },
      "execution_count": 21,
      "outputs": [
        {
          "output_type": "stream",
          "name": "stdout",
          "text": [
            "Square root after specific milliseconds:\n",
            "31.622776601683793\n",
            "44.721359549995796\n",
            "54.772255750516614\n"
          ]
        }
      ]
    },
    {
      "cell_type": "code",
      "source": [
        "#21  Write a  Python function to check whether a number is \"Perfect\" or not.\n",
        "def is_perfect_number(n):\n",
        "    if n <= 0:\n",
        "        return False\n",
        "\n",
        "    divisors_sum = 0\n",
        "    for i in range(1, n):\n",
        "        if n % i == 0:\n",
        "            divisors_sum += i\n",
        "\n",
        "    return divisors_sum == n\n",
        "\n",
        "number = 6\n",
        "print(number, \"is a perfect number:\", is_perfect_number(number))\n",
        "\n",
        "number = 28\n",
        "print(number, \"is a perfect number:\", is_perfect_number(number))\n",
        "\n",
        "number = 496\n",
        "print(number, \"is a perfect number:\", is_perfect_number(number))\n",
        "\n",
        "number = 8128\n",
        "print(number, \"is a perfect number:\", is_perfect_number(number))\n"
      ],
      "metadata": {
        "colab": {
          "base_uri": "https://localhost:8080/"
        },
        "id": "_4k7DPBb8Zc8",
        "outputId": "245a87e5-72b2-4c85-8b58-3bd707cc699d"
      },
      "execution_count": 22,
      "outputs": [
        {
          "output_type": "stream",
          "name": "stdout",
          "text": [
            "6 is a perfect number: True\n",
            "28 is a perfect number: True\n",
            "496 is a perfect number: True\n",
            "8128 is a perfect number: True\n"
          ]
        }
      ]
    }
  ],
  "metadata": {
    "colab": {
      "toc_visible": true,
      "provenance": []
    },
    "kernelspec": {
      "display_name": "Python 3",
      "name": "python3"
    }
  },
  "nbformat": 4,
  "nbformat_minor": 0
}