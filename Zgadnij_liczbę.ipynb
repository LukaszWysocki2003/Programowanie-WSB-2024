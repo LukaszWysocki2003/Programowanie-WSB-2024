{
  "nbformat": 4,
  "nbformat_minor": 0,
  "metadata": {
    "colab": {
      "provenance": [],
      "authorship_tag": "ABX9TyOAqMXVh7LrQptYOpdD5W8g",
      "include_colab_link": true
    },
    "kernelspec": {
      "name": "python3",
      "display_name": "Python 3"
    },
    "language_info": {
      "name": "python"
    }
  },
  "cells": [
    {
      "cell_type": "markdown",
      "metadata": {
        "id": "view-in-github",
        "colab_type": "text"
      },
      "source": [
        "<a href=\"https://colab.research.google.com/github/LukaszWysocki2003/Programowanie-WSB-2024/blob/main/Zgadnij_liczb%C4%99.ipynb\" target=\"_parent\"><img src=\"https://colab.research.google.com/assets/colab-badge.svg\" alt=\"Open In Colab\"/></a>"
      ]
    },
    {
      "cell_type": "code",
      "execution_count": 2,
      "metadata": {
        "colab": {
          "base_uri": "https://localhost:8080/"
        },
        "id": "J376zZgr4s4F",
        "outputId": "50be051c-b7eb-49d1-aa58-8faae0d8fa7f"
      },
      "outputs": [
        {
          "output_type": "stream",
          "name": "stdout",
          "text": [
            "Witaj w grze 'Zgadnij liczbę'!\n",
            "Komputer wylosuje liczbę z zakresu od 1 do 100.\n",
            "Twoim zadaniem jest odgadnąć tę liczbę.\n",
            "Podaj swoją liczbę: 1,2\n",
            "Proszę podać prawidłową liczbę.\n",
            "Podaj swoją liczbę: 5\n",
            "Za niska liczba! Spróbuj ponownie.\n",
            "Podaj swoją liczbę: 50\n",
            "Za wysoka liczba! Spróbuj ponownie.\n",
            "Podaj swoją liczbę: 27\n",
            "Za wysoka liczba! Spróbuj ponownie.\n",
            "Podaj swoją liczbę: 15\n",
            "Za wysoka liczba! Spróbuj ponownie.\n",
            "Podaj swoją liczbę: 10\n",
            "Za niska liczba! Spróbuj ponownie.\n",
            "Podaj swoją liczbę: 13\n",
            "Za wysoka liczba! Spróbuj ponownie.\n",
            "Podaj swoją liczbę: 11\n",
            "Gratulacje! Odgadłeś liczbę 11 w 7 próbach.\n"
          ]
        }
      ],
      "source": [
        "import random\n",
        "\n",
        "def zgadnij_liczbe():\n",
        "    print(\"Witaj w grze 'Zgadnij liczbę'!\")\n",
        "    print(\"Komputer wylosuje liczbę z zakresu od 1 do 100.\")\n",
        "    print(\"Twoim zadaniem jest odgadnąć tę liczbę.\")\n",
        "\n",
        "    liczba_do_zgadniecia = random.randint(1, 100)\n",
        "    proby = 0\n",
        "\n",
        "    while True:\n",
        "        proba = input(\"Podaj swoją liczbę: \")\n",
        "\n",
        "        # Sprawdzanie, czy wprowadzona wartość jest liczbą\n",
        "        if not proba.isdigit():\n",
        "            print(\"Proszę podać prawidłową liczbę.\")\n",
        "            continue\n",
        "\n",
        "        proba = int(proba)\n",
        "        proby += 1\n",
        "\n",
        "        if proba < liczba_do_zgadniecia:\n",
        "            print(\"Za niska liczba! Spróbuj ponownie.\")\n",
        "        elif proba > liczba_do_zgadniecia:\n",
        "            print(\"Za wysoka liczba! Spróbuj ponownie.\")\n",
        "        else:\n",
        "            print(f\"Gratulacje! Odgadłeś liczbę {liczba_do_zgadniecia} w {proby} próbach.\")\n",
        "            break\n",
        "\n",
        "if __name__ == \"__main__\":\n",
        "    zgadnij_liczbe()"
      ]
    }
  ]
}