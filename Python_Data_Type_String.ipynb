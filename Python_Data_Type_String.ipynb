{
  "cells": [
    {
      "cell_type": "markdown",
      "metadata": {
        "id": "view-in-github",
        "colab_type": "text"
      },
      "source": [
        "<a href=\"https://colab.research.google.com/github/LukaszWysocki2003/Programowanie-WSB-2024/blob/main/Python_Data_Type_String.ipynb\" target=\"_parent\"><img src=\"https://colab.research.google.com/assets/colab-badge.svg\" alt=\"Open In Colab\"/></a>"
      ]
    },
    {
      "cell_type": "code",
      "source": [
        "#1 Write a Python program to calculate the length of a string:\n",
        "string = input(\"Wpisz swój tekst: \")\n",
        "dlugosc = len(string)\n",
        "print(f\"Długość twojego tekstu wynosi: {dlugosc}\")\n"
      ],
      "metadata": {
        "id": "RSmgZbusqDEp",
        "colab": {
          "base_uri": "https://localhost:8080/"
        },
        "outputId": "4e844588-172c-4ca3-cbb9-a324c2362181"
      },
      "execution_count": null,
      "outputs": [
        {
          "output_type": "stream",
          "name": "stdout",
          "text": [
            "Wpisz swój tekst: elo\n",
            "Długość twojego tekstu wynosi: 3\n"
          ]
        }
      ]
    },
    {
      "cell_type": "code",
      "source": [
        "#2 Write a Python program to count the number of characters (character frequency) in a string:\n",
        "def licz_czestotliwosc_znakow(tekst):\n",
        "    czestotliwosc = {}\n",
        "    for znak in tekst:\n",
        "        if znak in czestotliwosc:\n",
        "            czestotliwosc[znak] += 1\n",
        "        else:\n",
        "            czestotliwosc[znak] = 1\n",
        "    return czestotliwosc\n",
        "tekst = \"google.com\"\n",
        "wynik = licz_czestotliwosc_znakow(tekst)\n",
        "print(wynik)"
      ],
      "metadata": {
        "colab": {
          "base_uri": "https://localhost:8080/"
        },
        "id": "PmMVdVYKqhRZ",
        "outputId": "cfde1b03-2922-489e-bec7-ebaeb4cad10d"
      },
      "execution_count": null,
      "outputs": [
        {
          "output_type": "stream",
          "name": "stdout",
          "text": [
            "{'g': 2, 'o': 3, 'l': 1, 'e': 1, '.': 1, 'c': 1, 'm': 1}\n"
          ]
        }
      ]
    },
    {
      "cell_type": "code",
      "source": [
        "#3 Write a Python program to get a string made of the first 2 and last 2 characters of a given string. If the string length is less than 2, return the empty string instead:\n",
        "def first_and_last_two_chars(string):\n",
        "    if len(string) < 2:\n",
        "        return \"\"\n",
        "    result = string[:2] + string[-2:]\n",
        "    return result\n",
        "\n",
        "print(first_and_last_two_chars('Warszawa'))\n",
        "print(first_and_last_two_chars('ul'))\n",
        "print(first_and_last_two_chars(' w'))\n"
      ],
      "metadata": {
        "colab": {
          "base_uri": "https://localhost:8080/"
        },
        "id": "k0mmuRoZqn0L",
        "outputId": "ead924c6-1c53-4053-eed3-dfb5ac03d285"
      },
      "execution_count": null,
      "outputs": [
        {
          "output_type": "stream",
          "name": "stdout",
          "text": [
            "Wawa\n",
            "ulul\n",
            " w w\n"
          ]
        }
      ]
    },
    {
      "cell_type": "code",
      "source": [
        "#4 \tWrite a Python program to get a string from a given string where all occurrences of its first char have been changed to '$', except the first char itself:\n",
        "def change_char(string):\n",
        "    if len(string) < 1:\n",
        "        return \"\"\n",
        "    first_char = string[0]\n",
        "    modified_string = first_char + string[1:].replace(first_char, '$')\n",
        "\n",
        "    return modified_string\n",
        "\n",
        "print(change_char('kraków'))\n"
      ],
      "metadata": {
        "colab": {
          "base_uri": "https://localhost:8080/"
        },
        "id": "Vi3xWe0XqvPS",
        "outputId": "d69dfd78-bc89-4769-8ce8-e1d005861666"
      },
      "execution_count": null,
      "outputs": [
        {
          "output_type": "stream",
          "name": "stdout",
          "text": [
            "kra$ów\n"
          ]
        }
      ]
    },
    {
      "cell_type": "code",
      "source": [
        "#5sdds"
      ],
      "metadata": {
        "id": "csUTXwWOq3VV"
      },
      "execution_count": 5,
      "outputs": []
    }
  ],
  "metadata": {
    "colab": {
      "provenance": [],
      "include_colab_link": true
    },
    "kernelspec": {
      "display_name": "Python 3",
      "name": "python3"
    }
  },
  "nbformat": 4,
  "nbformat_minor": 0
}